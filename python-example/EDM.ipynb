{
 "cells": [
  {
   "cell_type": "code",
   "execution_count": 1,
   "metadata": {},
   "outputs": [],
   "source": [
    "#Setup env\n",
    "import sys\n",
    "sys.path.append(\"../build/python\")\n",
    "import edm, random\n",
    "%load input.edm"
   ]
  },
  {
   "cell_type": "code",
   "execution_count": 2,
   "metadata": {},
   "outputs": [
    {
     "name": "stdout",
     "output_type": "stream",
     "text": [
      "Overwriting input.edm\n"
     ]
    }
   ],
   "source": [
    "%%writefile input.edm\n",
    "tempering\t\t0\n",
    "hill_prefactor\t\t1.0\n",
    "dimension \t\t1\n",
    "box_low\t\t\t0.0\n",
    "box_high\t\t1.0\n",
    "bias_spacing\t\t0.01\n",
    "bias_sigma\t\t0.5"
   ]
  },
  {
   "cell_type": "code",
   "execution_count": 3,
   "metadata": {},
   "outputs": [],
   "source": [
    "bias = edm.EDMBias(\"input.edm\", 1, 1)"
   ]
  },
  {
   "cell_type": "code",
   "execution_count": 4,
   "metadata": {},
   "outputs": [],
   "source": [
    "box_lo = [0.0]\n",
    "box_hi = [10.0]\n",
    "periodic = [True]\n",
    "\n",
    "bias.set_box(box_lo, box_hi,periodic)"
   ]
  },
  {
   "cell_type": "code",
   "execution_count": 5,
   "metadata": {},
   "outputs": [],
   "source": [
    "bias.add_hill([0.25])"
   ]
  },
  {
   "cell_type": "code",
   "execution_count": 6,
   "metadata": {},
   "outputs": [
    {
     "data": {
      "text/plain": [
       "(1.1002417338159258, [-0.6144025830861709])"
      ]
     },
     "execution_count": 6,
     "metadata": {},
     "output_type": "execute_result"
    }
   ],
   "source": [
    "bias.get_force([0.24])"
   ]
  },
  {
   "cell_type": "code",
   "execution_count": null,
   "metadata": {},
   "outputs": [],
   "source": [
    "bias.pre_add_hill(1)\n",
    "%time bias.add_hill_r([0.5], 1)\n",
    "bias.post_add_hill()"
   ]
  },
  {
   "cell_type": "code",
   "execution_count": 4,
   "metadata": {},
   "outputs": [
    {
     "name": "stdout",
     "output_type": "stream",
     "text": [
      "10000 loops, best of 3: 28 µs per loop\n"
     ]
    }
   ],
   "source": [
    "%timeit bias.add_hill([0.5])"
   ]
  },
  {
   "cell_type": "code",
   "execution_count": null,
   "metadata": {},
   "outputs": [],
   "source": []
  }
 ],
 "metadata": {
  "kernelspec": {
   "display_name": "Python 3",
   "language": "python",
   "name": "python3"
  },
  "language_info": {
   "codemirror_mode": {
    "name": "ipython",
    "version": 3
   },
   "file_extension": ".py",
   "mimetype": "text/x-python",
   "name": "python",
   "nbconvert_exporter": "python",
   "pygments_lexer": "ipython3",
   "version": "3.5.2"
  }
 },
 "nbformat": 4,
 "nbformat_minor": 1
}
